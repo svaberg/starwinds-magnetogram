{
 "cells": [
  {
   "cell_type": "code",
   "execution_count": null,
   "metadata": {},
   "outputs": [],
   "source": [
    "%reset -f\n",
    "%load_ext autoreload\n",
    "%autoreload 2\n",
    "\n",
    "%matplotlib inline\n",
    "\n",
    "import matplotlib.pyplot as plt\n",
    "import numpy as np\n",
    "\n",
    "from stellarwinds.magnetogram import reader_writer\n",
    "from stellarwinds.magnetogram import converter\n",
    "from stellarwinds.magnetogram import rotate\n",
    "from stellarwinds.magnetogram import plots\n",
    "from stellarwinds.magnetogram import plot_pfss\n",
    "from stellarwinds.magnetogram import plot_zdi\n",
    "from stellarwinds.magnetogram import coefficients\n",
    "from stellarwinds.magnetogram import zdi_magnetogram\n",
    "from stellarwinds.magnetogram import geometry\n",
    "from stellarwinds.magnetogram import pfss_magnetogram"
   ]
  },
  {
   "cell_type": "markdown",
   "metadata": {},
   "source": [
    "# Building a magnetogram from scratch"
   ]
  },
  {
   "cell_type": "code",
   "execution_count": null,
   "metadata": {},
   "outputs": [],
   "source": [
    "coeffs = coefficients.Coefficients()\n",
    "\n",
    "# Start with a rotated dipole\n",
    "coeffs.append(1, 0, 5.0)\n",
    "coeffs = rotate.rotate_magnetogram_euler_zyz_deg(coeffs, (0, 30, 0))\n",
    "coeffs = converter.map_to_positive_orders(coeffs)\n",
    "\n",
    "# Add some noise\n",
    "noise = coefficients.noise(degree_max=15, beta=1) * 100\n",
    "coeffs += noise\n",
    "\n",
    "# Plot\n",
    "coeffs = coeffs.scale(converter.forward_conversion_factor, 1)\n",
    "fig, axs = plt.subplots(1,3, figsize=(18, 5))\n",
    "plot_pfss.plot_components(coeffs, axs=axs)"
   ]
  },
  {
   "cell_type": "markdown",
   "metadata": {},
   "source": [
    "# Rotating a magnetogram\n",
    "The PFSS magnetogram is entirely determined by the radial coefficients, so it should not be surprising that the polar and azimuthal coefficients change when the radial coefficients are rotated."
   ]
  },
  {
   "cell_type": "code",
   "execution_count": null,
   "metadata": {},
   "outputs": [],
   "source": [
    "file = \"/Users/u1092841/Documents/PHD/toupies-magnetograms-colin/coeff-TYC6349-0200-1.dat\"\n",
    "coeffs = reader_writer.read_magnetogram_file(file)\n",
    "alpha, beta, gamma = coefficients.hsplit(coeffs)\n",
    "coeffs = alpha.scale(converter.forward_conversion_factor, 1)\n",
    "\n",
    "fig, axs = plt.subplots(1,3, figsize=(18, 5))\n",
    "plot_pfss.plot_components(coeffs, axs=axs)\n",
    "plt.show()"
   ]
  },
  {
   "cell_type": "code",
   "execution_count": null,
   "metadata": {},
   "outputs": [],
   "source": [
    "rotated = rotate.rotate_magnetogram_euler_zyz_deg(coeffs, (0, 270, 0))\n",
    "rotated = converter.map_to_positive_orders(rotated)\n",
    "fig, axs = plt.subplots(1,3, figsize=(18, 5))\n",
    "plot_pfss.plot_components(rotated, axs=axs)\n",
    "plt.show()"
   ]
  },
  {
   "cell_type": "markdown",
   "metadata": {},
   "source": [
    "Notice how while the energies of each harmonics $(\\ell, m)$ are changed by the rotation, the total energy at each degree $\\ell$ is as before."
   ]
  },
  {
   "cell_type": "code",
   "execution_count": null,
   "metadata": {},
   "outputs": [],
   "source": [
    "zc = zdi_magnetogram.from_coefficients(coeffs)\n",
    "fig, axs = plt.subplots(1,2, figsize=(12,5))\n",
    "plot_zdi._plot_energy(zc, ax=axs[1])\n",
    "plot_zdi.plot_energy_by_degree(zc, ax=axs[0])\n",
    "\n",
    "zc = zdi_magnetogram.from_coefficients(rotated)\n",
    "fig, axs = plt.subplots(1,2, figsize=(12,5))\n",
    "plot_zdi._plot_energy(zc, ax=axs[1])\n",
    "plot_zdi.plot_energy_by_degree(zc, ax=axs[0]);"
   ]
  },
  {
   "cell_type": "markdown",
   "metadata": {},
   "source": [
    "## Load an image \n",
    "For fun, read in an image and create a magnetogram from it."
   ]
  },
  {
   "cell_type": "code",
   "execution_count": null,
   "metadata": {},
   "outputs": [],
   "source": [
    "import urllib.request\n",
    "import IPython.display\n",
    "import PIL.Image\n",
    "import logging\n",
    "logger = logging.getLogger()\n",
    "logger.setLevel(logging.INFO)\n",
    "logging.debug(\"test\")\n",
    "from stellarwinds.magnetogram import image_converter\n",
    "image_converter.log.setLevel(logging.INFO)\n",
    "\n",
    "url = 'https://svs.gsfc.nasa.gov/vis/a000000/a003400/a003487/landmask4K.png'\n",
    "file, head = urllib.request.urlretrieve(url)"
   ]
  },
  {
   "cell_type": "code",
   "execution_count": null,
   "metadata": {},
   "outputs": [],
   "source": [
    "full_image = PIL.Image.open(file)\n",
    "IPython.display.display(full_image)\n",
    "print(f'The image is {full_image.size} pixels in size.')"
   ]
  },
  {
   "cell_type": "markdown",
   "metadata": {},
   "source": [
    "The image is way too big so resize it to $4\\ell_\\text{max}$ in the longitude direction."
   ]
  },
  {
   "cell_type": "code",
   "execution_count": null,
   "metadata": {},
   "outputs": [],
   "source": [
    "l_max = 30\n",
    "resize_factor = full_image.size[0] // (4 * l_max)\n",
    "new_size = [d // resize_factor for d in full_image.size]\n",
    "image = full_image.resize(new_size, PIL.Image.LANCZOS)\n",
    "IPython.display.display(image)\n",
    "print(f'The resized image is {image.size} pixels in size.')"
   ]
  },
  {
   "cell_type": "code",
   "execution_count": null,
   "metadata": {},
   "outputs": [],
   "source": [
    "image_in = np.array(image)\n",
    "while len(image_in.shape) > 2:\n",
    "    print(image_in.shape)\n",
    "    image_in = np.average(image_in, axis=2)\n",
    "image_in = image_in.T - np.average(image_in)\n",
    "\n",
    "\n",
    "coeffs, zg = image_converter.from_image(image_in, lmax=l_max)\n",
    "image_out = np.real(image_converter.to_image(coeffs, zg))\n",
    "\n",
    "vmax = np.maximum(np.max(image_in), np.max(image_out))\n",
    "vmin = np.minimum(np.min(image_in), np.min(image_out))\n",
    "v_max_abs = np.maximum(np.abs(vmax), np.abs(vmin))\n",
    "\n",
    "fig, axs = plt.subplots(2, 1, figsize=(8, 8))\n",
    "\n",
    "for data, ax in zip((image_in, image_out), axs):\n",
    "    img = plots.plot_equirectangular(zg, np.real(data), ax)\n",
    "\n",
    "cb = fig.colorbar(img, ax=axs.ravel().tolist())"
   ]
  },
  {
   "cell_type": "code",
   "execution_count": null,
   "metadata": {},
   "outputs": [],
   "source": [
    "# A ZDI magnetogram usually does not have negative orders, so \n",
    "# transform the coefficients so that the negative orders are all zero.\n",
    "# This changes the imaginary component of the magnetogram, which are\n",
    "# anyhow ignored in ZDI.\n",
    "coeffs = converter.map_to_positive_orders(coeffs)\n",
    "\n",
    "# Create the ZDI magnetogram \n",
    "lz = zdi_magnetogram.from_coefficients(coeffs)\n",
    "polar, azimuth = zg.corners()\n",
    "\n",
    "# This only returns the real component since it is a ZDI magnetogram.\n",
    "B = lz.get_radial_field(*zg.centers())\n",
    "\n",
    "Bscale = np.max(np.abs(B))\n",
    "\n",
    "fig, ax = plt.subplots(figsize=(8, 3))\n",
    "img1 = plots.plot_equirectangular(zg, B,\n",
    "                                  ax,\n",
    "                                  vmin=-v_max_abs,\n",
    "                                  vmax=v_max_abs,\n",
    "                                 )\n",
    "\n",
    "cb = fig.colorbar(img1, ax=ax)"
   ]
  }
 ],
 "metadata": {
  "kernelspec": {
   "display_name": "Python 3",
   "language": "python",
   "name": "python3"
  },
  "language_info": {
   "codemirror_mode": {
    "name": "ipython",
    "version": 3
   },
   "file_extension": ".py",
   "mimetype": "text/x-python",
   "name": "python",
   "nbconvert_exporter": "python",
   "pygments_lexer": "ipython3",
   "version": "3.8.3"
  }
 },
 "nbformat": 4,
 "nbformat_minor": 2
}
