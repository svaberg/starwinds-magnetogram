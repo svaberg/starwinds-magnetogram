{
 "cells": [
  {
   "cell_type": "markdown",
   "metadata": {},
   "source": [
    "# Power spectrum\n",
    "The total power of a function f is defined in the signal processing literature as the integral of the function squared, divided by the area of its domain. Using the orthonormality properties of the real unit-power spherical harmonic functions, it is straightforward to verify that the total power of a function defined on the unit sphere is related to its spectral coefficients by a generalization of Parseval's theorem (here, the theorem is stated for Schmidt semi-normalized harmonics, the relationship is slightly different for orthonormal harmonics):\n",
    "\n",
    "$$\n",
    "{\\frac {1}{4\\,\\pi }}\\int _{\\Omega }\\left|f(\\Omega )\\right|^{2}\\,d\\Omega =\\sum _{\\ell =0}^{\\infty }S_{f\\!f}(\\ell ),\n",
    "$$\n",
    "where\n",
    "\n",
    "$$\n",
    "S_{f\\!f}(\\ell )={\\frac {1}{2\\ell +1}}\\sum _{m=-\\ell }^{\\ell } \\left|f_{\\ell m} \\right|^{2}\n",
    "$$\n",
    "\n",
    "(How does this pan out for the real coeffs?)\n",
    "\n",
    "It is common that the power spectrum is well approximated by a power law of the form\n",
    "\n",
    "$$\n",
    "S_{f\\!f}(\\ell )=C\\,\\ell ^{\\beta }.\n",
    "$$\n",
    "When β = 0, the spectrum is \"white\" as each degree possesses equal power. When β < 0, the spectrum is termed \"red\" as there is more power at the low degrees with long wavelengths than higher degrees. Finally, when β > 0, the spectrum is termed \"blue\". "
   ]
  },
  {
   "cell_type": "markdown",
   "metadata": {},
   "source": [
    "### Units\n",
    "For the magnetic field, the unit of $S_{f\\!f}$ is magnetic field strength squared. The magnetic energy density (in $\\text{Jm}^{-3} = \\text{Nm}^{-2} = \\text{Pa}$) is given by\n",
    "$$\n",
    "u = \\frac{B^2}{2\\mu_0}\n",
    "$$\n",
    "Hence the average magnetic pressure at the surface (from the radial component) for each order $\\ell$ of the magnetic field is\n",
    "$$\n",
    "\\bar{P}_\\text{mag}(\\ell) =\\frac{1}{2\\mu_0}\\,S_{f\\!f}(\\ell)\n",
    "$$"
   ]
  },
  {
   "cell_type": "markdown",
   "metadata": {},
   "source": [
    "### Key insight\n",
    "The equation is factored into\n",
    "$$\n",
    "f(r, \\theta, \\phi) = \\sum_{\\ell m} f^m_\\ell R_{\\ell m}(r) \\, \\Theta_{\\ell m}(\\theta) \\, \\Phi_{\\ell m}(\\phi) \n",
    "$$\n",
    "this is true for both real and complex formalisms. \n",
    "\n",
    "The stellar surface $r_\\star$ and the source surface $r_\\text{ss}$ are parameters to $R_{\\ell m}$ only.\n",
    "\n",
    "In the real formalism \n",
    "$$\n",
    "\\Phi_{\\ell m}(\\phi) = g_{\\ell m}\\cos (m\\phi) + h_{\\ell m} \\sin(m\\phi)\n",
    "$$\n",
    "and I think\n",
    "$$\n",
    "\\Theta_{\\ell m}(\\theta) = P^m_\\ell(\\cos\\theta))\n",
    "$$\n",
    "and (for $f=B_r$)\n",
    "$$\n",
    "R_{\\ell m}(r; r_\\star, r_\\text{ss}) = \n",
    "\\frac{\n",
    "\\ell + 1 + \\ell \\left(\n",
    "\\frac{r}{r_\\text{ss}} \\right)^{2\\ell+1}}\n",
    "{\\ell + 1 + \\ell \\left(\n",
    "\\frac{r_\\star}{r_\\text{ss}} \\right)^{2\\ell+1}}\n",
    "\\left(\n",
    "\\frac{r_\\star}{r}\n",
    "\\right)^{\\ell+2}\n",
    "$$"
   ]
  },
  {
   "cell_type": "code",
   "execution_count": 110,
   "metadata": {},
   "outputs": [
    {
     "data": {
      "image/png": "[encoded data removed]",
      "text/plain": [
       "<matplotlib.figure.Figure at 0x10d3a4048>"
      ]
     },
     "metadata": {},
     "output_type": "display_data"
    }
   ],
   "source": [
    "def Rlm(r, ell, rs, rss):\n",
    "    numerator   = ell + 1 + ell *  (r/rss)**(2*ell+1)\n",
    "    denominator = ell + 1 + ell * (rs/rss)**(2*ell+1)\n",
    "    return (rs/r)**(ell+2) * (numerator / denominator)\n",
    "\n",
    "rs = 1\n",
    "rss = 3\n",
    "r = np.linspace(rs, rss, 1000)\n",
    "for ell in [5]: #[0,1,2,4, 10, 20, 40, 100]:\n",
    "    plt.plot(r, Rlm(r, ell, rs, rss), label='$\\ell=%d$' % ell)\n",
    "plt.legend()\n",
    "plt.show()"
   ]
  },
  {
   "cell_type": "markdown",
   "metadata": {},
   "source": [
    "The $R_\\ell$ functions increasingly drop of with increasing $r$. This suggests that the power spectrum should drop of similarly for higher $\\ell$ values."
   ]
  },
  {
   "cell_type": "markdown",
   "metadata": {},
   "source": [
    "## Power spectrum as function of $r$\n",
    "_Claim_ $R(r)$ is independent of formalism and normalisation. Is this true??"
   ]
  },
  {
   "cell_type": "markdown",
   "metadata": {},
   "source": [
    "# Unsigned magnetic flux\n",
    "The magnetic flux through as surface is given by\n",
    "$$\n",
    "\\Phi_B(r) \\equiv \\oint_{S(r)} \\vec B \\cdot \\mathrm{d} \\vec S \n",
    "$$\n",
    "In polar coordinates, $B = B_r \\hat r +  B_\\theta \\hat \\theta + B_\\phi \\hat \\phi$ and the surface element normal vector $\\text{d}\\vec{S} \\parallel \\hat r$ so\n",
    "$$\n",
    "\\Phi_B (r)= \n",
    "\\oint_{S(r)} \n",
    "B_r   \\mathrm{d}S \\\\\n",
    "= \\int_0^{2\\pi}\\int_0^\\pi B_r \\mathrm{d}A\n",
    "= \\int_0^{2\\pi}\\int_0^\\pi B_r \\, r \\sin\\theta \\,\\text{d}\\theta \\text{d}\\phi\n",
    "$$\n",
    "\n",
    "$$\n",
    "\\Phi_B (r)= \n",
    "\\int_0^{2\\pi}\\int_0^\\pi \n",
    "\\sum_{\\ell m} R_{\\ell m}(r) \\, \\Theta_{\\ell m}(\\theta) \\, \\Phi_{\\ell m}(\\phi)  \\, r\\sin\\theta \\,\\text{d}\\theta \\text{d}\\phi\n",
    "$$"
   ]
  },
  {
   "cell_type": "markdown",
   "metadata": {},
   "source": [
    "$$\n",
    "\\Phi_B (r)= \\sum_{\\ell m}\n",
    "rR_{\\ell m}(r) \n",
    "\\int_0^{2\\pi} \\Phi_{\\ell m}(\\phi) \n",
    "\\int_0^\\pi  \\, \\Theta_{\\ell m}(\\theta)  \\, \\sin\\theta \\,\\text{d}\\theta \\text{d}\\phi\n",
    "$$\n",
    "\n",
    "changing coordinates,\n",
    "$$\n",
    "\\Phi_B (r)= \\sum_{\\ell m}\n",
    "rR_{\\ell m}(r) \n",
    "\\int_0^{2\\pi} \\Phi_{\\ell m}(\\phi) \\,\\text{d}\\phi\n",
    "\\int_{-1}^{1}  \\, \\Theta_{\\ell m}(x)   \\,\\text{d}x \n",
    "$$\n",
    "\n",
    "From symmetry (except $\\ell=m=0$ which we clamp to $0$), \n",
    "$$\n",
    "\\int_0^{2\\pi} \\Phi_{\\ell m}(\\phi) \\,\\text{d}\\phi = 0\n",
    "$$\n",
    "and thus $\\Phi_B(r) = 0$ which is expected for a magnetic field."
   ]
  },
  {
   "cell_type": "markdown",
   "metadata": {},
   "source": [
    "## Unsigned magnetic flux\n",
    "Looking instead at the total unsigned magnetic flux\n",
    "$$\n",
    "\\Phi_{|B|}(r) \\equiv \\oint_{S(r)} \\left| \\vec B \\cdot \\mathrm{d} \\vec S \\right| \\\\\n",
    "$$\n",
    "following the above approach,\n",
    "$$\n",
    "\\Phi_{|B|} (r)= \n",
    "\\int_0^{2\\pi}\\int_0^\\pi \n",
    "\\left|\n",
    "\\sum_{\\ell m} r\\,R_{\\ell m}(r) \\, \\Theta_{\\ell m}(\\theta) \\, \\Phi_{\\ell m}(\\phi)  \n",
    "\\right|\n",
    "\\sin\\theta \\,\\text{d}\\theta \\text{d}\\phi\n",
    "$$\n",
    "which does not permit further factorisation. The unsigned magnetic flux is not a linear combination of the $\\ell,m$-terms so the effect of each term cannot be studied independently."
   ]
  },
  {
   "cell_type": "code",
   "execution_count": 5,
   "metadata": {},
   "outputs": [
    {
     "name": "stdout",
     "output_type": "stream",
     "text": [
      "[2. 3. 4. 6.] G\n",
      "(array([0]),)\n",
      "(array([1, 2]),)\n",
      "0 0 4.0 G2\n",
      "1 1 25.0 G2\n",
      "2 7 36.0 G2\n",
      "[(0, <Quantity 4. G2>), (1, <Quantity 25. G2>), (7, <Quantity 36. G2>)]\n",
      "[0.01591549 0.09947184 0.14323945] Pa\n"
     ]
    }
   ],
   "source": [
    "from astropy import units as u\n",
    "from astropy import constants as c\n",
    "import numpy as np\n",
    "\n",
    "degree_l = np.array([0, 1, 1,7])\n",
    "order_m = np.array([1, 0, 1,0])\n",
    "flm = np.array([2, 3, 4,6]) * u.gauss\n",
    "print(flm)\n",
    "\n",
    "print(np.where(degree_l == 0))\n",
    "print(np.where(degree_l == 1))\n",
    "\n",
    "relevant_degrees = np.unique(degree_l)\n",
    "relevant_sff = np.empty_like(relevant_degrees) * u.gauss**2\n",
    "for deg_id, deg in enumerate(relevant_degrees):\n",
    "    schmidt = (2.0 * deg + 1.0)**(-1) \n",
    "    sff = np.sum((np.where(degree_l == deg, flm, 0) * u.gauss)**2) \n",
    "    print(deg_id, deg, sff)\n",
    "    relevant_sff[deg_id] = sff\n",
    "\n",
    "print(list(zip(relevant_degrees, relevant_sff)))\n",
    "print((0.5 / c.mu0 * relevant_sff).to(u.pascal))"
   ]
  },
  {
   "cell_type": "code",
   "execution_count": 126,
   "metadata": {},
   "outputs": [
    {
     "name": "stdout",
     "output_type": "stream",
     "text": [
      "[[0 1 2 3]\n",
      " [0 1 2 3]\n",
      " [0 1 2 3]\n",
      " [0 1 2 3]]\n",
      "[[0 0 0 0]\n",
      " [1 1 1 1]\n",
      " [2 2 2 2]\n",
      " [3 3 3 3]]\n",
      "[[1 0 0 0]\n",
      " [1 0 0 0]\n",
      " [1 0 0 0]\n",
      " [1 0 0 0]]\n",
      "[[ 1.         -0.          0.         -0.        ]\n",
      " [ 1.         -1.          0.         -0.        ]\n",
      " [ 1.         -0.57735027  0.28867513 -0.        ]\n",
      " [ 1.         -0.40824829  0.12909944 -0.05270463]]\n"
     ]
    },
    {
     "ename": "NameError",
     "evalue": "name 'r' is not defined",
     "output_type": "error",
     "traceback": [
      "\u001b[0;31m---------------------------------------------------------------------------\u001b[0m",
      "\u001b[0;31mNameError\u001b[0m                                 Traceback (most recent call last)",
      "\u001b[0;32m<ipython-input-126-334996338db8>\u001b[0m in \u001b[0;36m<module>\u001b[0;34m()\u001b[0m\n\u001b[1;32m     34\u001b[0m     \u001b[0;32mreturn\u001b[0m \u001b[0mB_radial\u001b[0m\u001b[0;34m,\u001b[0m \u001b[0mB_polar\u001b[0m\u001b[0;34m,\u001b[0m \u001b[0mB_azimuthal\u001b[0m\u001b[0;34m\u001b[0m\u001b[0m\n\u001b[1;32m     35\u001b[0m \u001b[0;34m\u001b[0m\u001b[0m\n\u001b[0;32m---> 36\u001b[0;31m \u001b[0mprint\u001b[0m\u001b[0;34m(\u001b[0m\u001b[0mreal_sph_harm\u001b[0m\u001b[0;34m(\u001b[0m\u001b[0;34m)\u001b[0m\u001b[0;34m)\u001b[0m\u001b[0;34m\u001b[0m\u001b[0m\n\u001b[0m",
      "\u001b[0;32m<ipython-input-126-334996338db8>\u001b[0m in \u001b[0;36mreal_sph_harm\u001b[0;34m(polar, R0, Rs)\u001b[0m\n\u001b[1;32m     24\u001b[0m \u001b[0;34m\u001b[0m\u001b[0m\n\u001b[1;32m     25\u001b[0m \u001b[0;34m\u001b[0m\u001b[0m\n\u001b[0;32m---> 26\u001b[0;31m     \u001b[0mfixed\u001b[0m \u001b[0;34m=\u001b[0m \u001b[0;34m(\u001b[0m\u001b[0mR0\u001b[0m \u001b[0;34m/\u001b[0m \u001b[0mr\u001b[0m\u001b[0;34m)\u001b[0m \u001b[0;34m**\u001b[0m \u001b[0;34m(\u001b[0m\u001b[0ml\u001b[0m \u001b[0;34m+\u001b[0m \u001b[0;36m2\u001b[0m\u001b[0;34m)\u001b[0m \u001b[0;34m/\u001b[0m \u001b[0;34m(\u001b[0m\u001b[0ml\u001b[0m \u001b[0;34m+\u001b[0m \u001b[0;36m1\u001b[0m \u001b[0;34m+\u001b[0m \u001b[0ml\u001b[0m \u001b[0;34m*\u001b[0m \u001b[0;34m(\u001b[0m\u001b[0mR0\u001b[0m \u001b[0;34m/\u001b[0m \u001b[0mRs\u001b[0m\u001b[0;34m)\u001b[0m \u001b[0;34m**\u001b[0m \u001b[0;34m(\u001b[0m\u001b[0;36m2\u001b[0m \u001b[0;34m*\u001b[0m \u001b[0ml\u001b[0m \u001b[0;34m+\u001b[0m \u001b[0;36m1\u001b[0m\u001b[0;34m)\u001b[0m\u001b[0;34m)\u001b[0m\u001b[0;34m\u001b[0m\u001b[0m\n\u001b[0m\u001b[1;32m     27\u001b[0m \u001b[0;34m\u001b[0m\u001b[0m\n\u001b[1;32m     28\u001b[0m     B_radial += Pml * (g * np.cos(m * azimuth) + h * np.sin(m * azimuth)) * (\n",
      "\u001b[0;31mNameError\u001b[0m: name 'r' is not defined"
     ]
    }
   ],
   "source": [
    "from scipy.special import lpmn\n",
    "\n",
    "def real_sph_harm(polar=0, R0=1, Rs=2.6):\n",
    "    #scipy.special.lpmn(m, n, z) returns upper triangular matrices.\n",
    "    #Returns two arrays of size (m+1, n+1) containing Pmn(z) and Pmn'(z) for \n",
    "    #all orders from 0..m and degrees from 0..n.\n",
    "    Pml, dPml = lpmn(3,3,np.cos(polar))\n",
    "    \n",
    "    # Set up m and l\n",
    "    order_m, degree_l = np.meshgrid(np.arange(0, Pml.shape[0]), np.arange(0, Pml.shape[0]))\n",
    "    print(order_m)\n",
    "    print(degree_l)\n",
    "    \n",
    "\n",
    "    # https://en.wikipedia.org/wiki/Spherical_harmonics#Condon%E2%80%93Shortley_phase\n",
    "    # https://en.wikipedia.org/wiki/Spherical_harmonics#Conventions\n",
    "    d0 = np.where(order_m == 0, 1, 0)\n",
    "    print(d0)\n",
    "    cml = (-1) ** order_m * np.sqrt(\n",
    "        factorial(degree_l - order_m) / factorial(degree_l + order_m)) * np.sqrt(2 - d0)\n",
    "\n",
    "    print(cml)\n",
    "    \n",
    "    \n",
    "    \n",
    "    fixed = (R0 / r) ** (l + 2) / (l + 1 + l * (R0 / Rs) ** (2 * l + 1))\n",
    "\n",
    "    B_radial += Pml * (g * np.cos(m * azimuth) + h * np.sin(m * azimuth)) * (\n",
    "            l + 1 + l * (r / Rs) ** (2 * l + 1)) * fixed;\n",
    "    B_polar -= DPml * (g * np.cos(m * azimuth) + h * np.sin(m * azimuth)) * (1 - (r / Rs) ** (2 * l + 1)) * fixed;\n",
    "    B_azimuthal += Pml * (g * np.sin(m * azimuth) - h * np.cos(m * azimuth)) * (\n",
    "            1 - (r / Rs) ** (2 * l + 1)) * fixed;\n",
    "\n",
    "    return B_radial, B_polar, B_azimuthal\n",
    "\n",
    "print(real_sph_harm())"
   ]
  },
  {
   "cell_type": "code",
   "execution_count": 6,
   "metadata": {},
   "outputs": [
    {
     "name": "stdout",
     "output_type": "stream",
     "text": [
      "(2.0, 2.220446049250313e-14)\n",
      "(19.739208802178716, 2.1914924100062368e-13)\n"
     ]
    }
   ],
   "source": [
    "%reset -f\n",
    "import numpy as np\n",
    "from scipy.integrate import dblquad\n",
    "\n",
    "def regular_integral(x0=0, x1=2, y0=7, y1=8):\n",
    "    \n",
    "    result = dblquad(lambda x,y: 1,\n",
    "                     x0, x1,\n",
    "                     lambda y: y0, lambda y:y1)\n",
    "    \n",
    "    return result\n",
    "\n",
    "print(regular_integral())\n",
    "print(regular_integral(0, np.pi, 0, 2*np.pi))\n",
    "\n",
    "def spherical_integral(t0=0, t1=np.pi, p0=0, p1=2*np.pi):\n",
    "    \n",
    "    result = dblquad(lambda t,p: 1 * np.sin(p),\n",
    "                    t0, t1,\n",
    "                    lambda p:p0, lambda p:p1)\n",
    "    \n",
    "    return result\n",
    "\n",
    "print(spherical_integral())\n",
    "print(spherical_integral()[0]-4*np.pi)\n",
    "\n",
    "from scipy.special import lpmv, factorial\n",
    "import matplotlib.pyplot as plt\n",
    "\n",
    "theta = np.linspace(0, np.pi, 400)\n",
    "\n",
    "plt.plot(theta, np.sin(theta))\n",
    "\n",
    "order_m = 2\n",
    "degree_l = 3\n",
    "\n",
    "plt.plot(theta, lpmv(order_m, degree_l, np.cos(theta)), \n",
    "                 label='$\\ell, m=%d,%d$' % (degree_l, order_m))\n",
    "plt.plot(theta, \n",
    "         np.abs(lpmv(order_m, degree_l, np.cos(theta))), \n",
    "         label='$\\ell, m=%d,%d$' % (degree_l, order_m))\n",
    "plt.legend()\n",
    "plt.show()\n",
    "\n"
   ]
  },
  {
   "cell_type": "code",
   "execution_count": 84,
   "metadata": {},
   "outputs": [
    {
     "name": "stdout",
     "output_type": "stream",
     "text": [
      "[ 1.  2.  3.  4.  5.  6.  7.  8.  9. 10. 11. 12. 13. 14. 15. 16. 17. 18.\n",
      " 19. 20. 21. 22. 23. 24. 25. 26. 27. 28. 29. 30. 31. 32. 33. 34. 35. 36.\n",
      " 37. 38. 39. 40.]\n"
     ]
    },
    {
     "data": {
      "image/png": "[encoded data removed]",
      "text/plain": [
       "<matplotlib.figure.Figure at 0x10d3aa208>"
      ]
     },
     "metadata": {},
     "output_type": "display_data"
    }
   ],
   "source": [
    "theta = np.linspace(0,np.pi,1000)\n",
    "order_m = 0\n",
    "\n",
    "plt.figure(figsize=(12,3))\n",
    "for degree_l in [80]:\n",
    "    plt.plot(theta, lpmv(order_m, degree_l, np.cos(theta)), \n",
    "                     label='$P_{%d}^{%d}$' % (degree_l, order_m))\n",
    "    #plt.plot(theta, 1/11*lpmv(order_m+1, degree_l, np.cos(theta)), \n",
    "    #                 label='$P_{%d}^{%d}$' % (degree_l, order_m))\n",
    "    \n",
    "    #Bruns inequalities\n",
    "    def bruns(degree_l):\n",
    "        nu = np.arange(1,degree_l+1)\n",
    "        print(nu)\n",
    "        lower = (nu - .5)/(degree_l + .5)*np.pi\n",
    "        upper = (nu - .0)/(degree_l + .5)*np.pi\n",
    "        plt.plot(lower, 0*lower, 'x')\n",
    "        plt.plot(upper, 0*upper, 'o')\n",
    "        \n",
    "    # Markoff and Stieltjes inequalities\n",
    "    def markoff_stieltjes(degree_l):\n",
    "        nu = np.arange(1, (degree_l+1)/2)\n",
    "        print(nu)\n",
    "        half_lower = (nu - .5)/(degree_l + 0.0) * np.pi\n",
    "        half_upper = (nu - .0)/(degree_l + 1.0) * np.pi\n",
    "        if degree_l % 2 == 1:\n",
    "            midval = [np.pi/2]\n",
    "        else:\n",
    "            midval = []\n",
    "        lower = np.concatenate((half_lower, midval, np.pi-half_upper))\n",
    "        upper = np.concatenate((half_upper, midval, np.pi-half_lower))\n",
    "        #plt.plot(lower, 0*lower, 'x')\n",
    "        #plt.plot(upper, 0*upper, 'o')\n",
    "        plt.plot(0.5*(lower + upper), 0*lower, 'kx')\n",
    "        \n",
    "    markoff_stieltjes(degree_l)\n",
    "    #markoff_stieltjes(degree_l-1)\n",
    "plt.legend()\n",
    "plt.grid()\n",
    "plt.xlabel('$x\\cdot\\pi $')\n",
    "plt.ylabel('$P_\\ell^m(x)$')\n",
    "plt.show()"
   ]
  }
 ],
 "metadata": {
  "kernelspec": {
   "display_name": "Python [conda root]",
   "language": "python",
   "name": "conda-root-py"
  },
  "language_info": {
   "codemirror_mode": {
    "name": "ipython",
    "version": 3
   },
   "file_extension": ".py",
   "mimetype": "text/x-python",
   "name": "python",
   "nbconvert_exporter": "python",
   "pygments_lexer": "ipython3",
   "version": "3.5.4"
  }
 },
 "nbformat": 4,
 "nbformat_minor": 2
}
