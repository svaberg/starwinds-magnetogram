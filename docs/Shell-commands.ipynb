{
 "cells": [
  {
   "cell_type": "markdown",
   "id": "bc60e080",
   "metadata": {},
   "source": [
    "# Shell commands\n",
    "`starwinds-magnetogram` provides the follwing shell commands\n",
    "  * `sw-convert-magnetogram` Convert a ZDI magnetogram to PFSS format suitable for ingesting in the SWMF/BATSRUS.\n",
    "  * `sw-plot-magnetogram` Quick plot of a PFSS or ZDI magnetogram\n",
    "  * `sw-plot-lsd` Quick plot of ZDI LSD files"
   ]
  },
  {
   "cell_type": "markdown",
   "id": "109c1e70",
   "metadata": {},
   "source": [
    "## Converting magnetograms"
   ]
  },
  {
   "cell_type": "code",
   "execution_count": 9,
   "id": "aba81acf",
   "metadata": {},
   "outputs": [
    {
     "name": "stdout",
     "output_type": "stream",
     "text": [
      "usage: sw-convert-magnetogram [-h] [--pfss-to-zdi] [--degree-max DEGREE_MAX]\r\n",
      "                              [--no-header] [-q] [-v]\r\n",
      "                              input_file [output_file]\r\n",
      "\r\n",
      "Convert from ZDIPy magnetogram to WSO/Stanford PFSS magnetogram\r\n",
      "\r\n",
      "positional arguments:\r\n",
      "  input_file            input magnetogram file\r\n",
      "  output_file           output magnetogram file\r\n",
      "\r\n",
      "options:\r\n",
      "  -h, --help            show this help message and exit\r\n",
      "  --pfss-to-zdi         Convert WSO magnetogram back to zdipy magnetogram\r\n",
      "  --degree-max DEGREE_MAX\r\n",
      "                        Pad magnetogram with zeros up to given degree\r\n",
      "  --no-header           Do not create new style SWMF header when converting\r\n",
      "                        coefficients from ZDIPy to WSO format\r\n",
      "  -q, --quiet           only log warnings and errors\r\n",
      "  -v, --verbose         generate and log detailed debug output\r\n"
     ]
    }
   ],
   "source": [
    "!sw-convert-magnetogram --help"
   ]
  },
  {
   "cell_type": "markdown",
   "id": "7330c967",
   "metadata": {},
   "source": [
    "## Plotting magnetograms"
   ]
  },
  {
   "cell_type": "code",
   "execution_count": 13,
   "id": "14759056",
   "metadata": {},
   "outputs": [
    {
     "name": "stdout",
     "output_type": "stream",
     "text": [
      "usage: sw-plot-magnetogram [-h] [-p PLOT_TYPE] [-q] [-v] [-y TYPE]\r\n",
      "                           input_file [output_file]\r\n",
      "\r\n",
      "Plot magnetograms. Plot type can be map, radial, polar, azimuthal, strength,\r\n",
      "energy-by-degree, energy-matrix, or energy-summary\r\n",
      "\r\n",
      "positional arguments:\r\n",
      "  input_file            input magnetogram file\r\n",
      "  output_file           output image file\r\n",
      "\r\n",
      "options:\r\n",
      "  -h, --help            show this help message and exit\r\n",
      "  -p PLOT_TYPE, --plot_type PLOT_TYPE\r\n",
      "                        plot type\r\n",
      "  -q, --quiet           only log warnings and errors\r\n",
      "  -v, --verbose         generate and log detailed debug output\r\n",
      "  -y TYPE, --type TYPE  magnetogram type (zdi/pfss)\r\n"
     ]
    }
   ],
   "source": [
    "!sw-plot-magnetogram --help"
   ]
  },
  {
   "cell_type": "markdown",
   "id": "e361c462",
   "metadata": {},
   "source": [
    "## Plotting LSD files"
   ]
  },
  {
   "cell_type": "code",
   "execution_count": 8,
   "id": "dbad7549",
   "metadata": {},
   "outputs": [
    {
     "name": "stdout",
     "output_type": "stream",
     "text": [
      "usage: sw-plot-lsd [-h] [-p PARAMS] [-s SKIP_ROWS] [-q] [-v]\r\n",
      "                   input_file [output_file]\r\n",
      "\r\n",
      "Visualise LSD file by plotting plot Stokes V/Ic, I/Ic, and/or null signal N/Ic\r\n",
      "against Doppler velocity.\r\n",
      "\r\n",
      "positional arguments:\r\n",
      "  input_file            input LSD file\r\n",
      "  output_file           output image file\r\n",
      "\r\n",
      "options:\r\n",
      "  -h, --help            show this help message and exit\r\n",
      "  -p PARAMS, --params PARAMS\r\n",
      "                        parameters, one or more from VIN (default: VI)\r\n",
      "  -s SKIP_ROWS, --skip-rows SKIP_ROWS\r\n",
      "                        number of header rows (default: 2)\r\n",
      "  -q, --quiet           only log warnings and errors\r\n",
      "  -v, --verbose         generate and log detailed debug output\r\n"
     ]
    }
   ],
   "source": [
    "!sw-plot-lsd --help"
   ]
  }
 ],
 "metadata": {
  "kernelspec": {
   "display_name": "Python 3 (ipykernel)",
   "language": "python",
   "name": "python3"
  },
  "language_info": {
   "codemirror_mode": {
    "name": "ipython",
    "version": 3
   },
   "file_extension": ".py",
   "mimetype": "text/x-python",
   "name": "python",
   "nbconvert_exporter": "python",
   "pygments_lexer": "ipython3",
   "version": "3.10.4"
  }
 },
 "nbformat": 4,
 "nbformat_minor": 5
}
