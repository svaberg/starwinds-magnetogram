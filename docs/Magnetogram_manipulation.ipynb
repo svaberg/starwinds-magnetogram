{
 "cells": [
  {
   "cell_type": "code",
   "execution_count": null,
   "metadata": {},
   "outputs": [],
   "source": [
    "import matplotlib.pyplot as plt\n",
    "import numpy as np\n",
    "\n",
    "from stellarwinds.magnetogram import convert_magnetogram\n",
    "from stellarwinds.magnetogram import rotate_magnetogram\n",
    "from stellarwinds.magnetogram import plot_magnetogram\n",
    "from stellarwinds.magnetogram import coefficients\n",
    "from stellarwinds.magnetogram import zdi_magnetogram\n",
    "from stellarwinds.magnetogram import zdi_geometry\n",
    "from stellarwinds.magnetogram import pfss_stanford"
   ]
  },
  {
   "cell_type": "markdown",
   "metadata": {},
   "source": [
    "# Building a magnetogram from scratch"
   ]
  },
  {
   "cell_type": "code",
   "execution_count": null,
   "metadata": {},
   "outputs": [],
   "source": [
    "coeffs = coefficients.Coefficients()\n",
    "\n",
    "# Start with a rotated dipole\n",
    "coeffs.append(1, 0, 5.0)\n",
    "# coeffs = rotate_magnetogram.rotate_magnetogram_euler_zyz_deg(coeffs, (0, 30, 0))\n",
    "# coeffs = convert_magnetogram.map_to_positive_orders(coeffs)\n",
    "\n",
    "# Add some noise\n",
    "# noise = sph.noise(degree_max=15, beta=1) * 100\n",
    "# coeffs += noise\n",
    "\n",
    "# Plot\n",
    "coeffs.apply_scaling(convert_magnetogram.forward_conversion_factor, 1)\n",
    "fig, ax = plot_magnetogram.plot_pfss_equirectangular(coeffs)"
   ]
  },
  {
   "cell_type": "code",
   "execution_count": null,
   "metadata": {},
   "outputs": [],
   "source": [
    "coeffs = coefficients.Coefficients()\n",
    "coeffs.append(1, 0, 1.0)\n",
    "coeffs.append(3, 0, 0.1)\n",
    "coeffs *= 2.55e3\n",
    "coeffs = rotate_magnetogram.rotate_magnetogram_euler_zyz_deg(coeffs, (0, 45, 0))\n",
    "# Add some noise\n",
    "# coeffs += sph.noise(degree_max=15, beta=.8) * 1000\n",
    "coeffs = convert_magnetogram.map_to_positive_orders(coeffs)\n",
    "\n",
    "zm = zdi_magnetogram.from_coefficients(coeffs)\n",
    "zg = zdi_geometry.ZdiGeometry()\n",
    "field = zm.get_radial_field(*zg.centers())\n",
    "fig, ax = plt.subplots()\n",
    "img = plot_magnetogram.plot_equirectangular(zg, field,\n",
    "                                      ax, \n",
    "                                      vmin=None, vmax=None, \n",
    "                                      cmap='RdBu_r')\n",
    "plt.colorbar(img)\n",
    "\n",
    "print(\"Maximum field strength: %g\" % np.max(field))\n",
    "print(\"Minimum field strength: %g\" % np.min(field))\n",
    "print(\"Average field strength: %g\" % (np.sum(np.abs(field) * zg.areas()) / (4 * np.pi)))\n",
    "\n",
    "coeffs.apply_scaling(convert_magnetogram.forward_conversion_factor, 1)\n",
    "\n",
    "convert_magnetogram.write_magnetogram_file(coeffs,\n",
    "                                           fname='600rot45.wso.dat',\n",
    "                                           degree_max=15)"
   ]
  },
  {
   "cell_type": "markdown",
   "metadata": {},
   "source": [
    "# Rotating a magnetogram\n",
    "The PFSS magnetogram is entirely determined by the radial coefficients, so it should not (?) be surprising that the polar and azimuthal coefficients change when the radial coefficients are rotated."
   ]
  },
  {
   "cell_type": "code",
   "execution_count": null,
   "metadata": {},
   "outputs": [],
   "source": [
    "file = \"/Users/u1092841/Documents/PHD/toupies-magnetograms-colin/coeff-TYC6349-0200-1.dat\"\n",
    "coeffs = convert_magnetogram.read_magnetogram_file(file)\n",
    "\n",
    "fig, ax = plot_magnetogram.plot_pfss_equirectangular(coeffs)"
   ]
  },
  {
   "cell_type": "code",
   "execution_count": null,
   "metadata": {},
   "outputs": [],
   "source": [
    "rotated = rotate_magnetogram.rotate_magnetogram_euler_zyz_deg(coeffs, (0, 270, 0))\n",
    "rotated = convert_magnetogram.map_to_positive_orders(rotated)\n",
    "fig, ax = plot_magnetogram.plot_pfss_equirectangular(rotated)"
   ]
  },
  {
   "cell_type": "code",
   "execution_count": null,
   "metadata": {},
   "outputs": [],
   "source": [
    "zc = zdi_magnetogram.from_coefficients(coeffs)\n",
    "fig, ax = plot_magnetogram.plot_zdi_energy(zc)\n",
    "\n",
    "plot_magnetogram.plot_energy_by_degree(zc)"
   ]
  },
  {
   "cell_type": "code",
   "execution_count": null,
   "metadata": {},
   "outputs": [],
   "source": [
    "zc = zdi_magnetogram.from_coefficients(rotated)\n",
    "fig, ax = plot_magnetogram.plot_zdi_energy(zc)\n",
    "\n",
    "plot_magnetogram.plot_energy_by_degree(zc)"
   ]
  }
 ],
 "metadata": {
  "kernelspec": {
   "display_name": "Python 3",
   "language": "python",
   "name": "python3"
  },
  "language_info": {
   "codemirror_mode": {
    "name": "ipython",
    "version": 3
   },
   "file_extension": ".py",
   "mimetype": "text/x-python",
   "name": "python",
   "nbconvert_exporter": "python",
   "pygments_lexer": "ipython3",
   "version": "3.7.3"
  }
 },
 "nbformat": 4,
 "nbformat_minor": 2
}
